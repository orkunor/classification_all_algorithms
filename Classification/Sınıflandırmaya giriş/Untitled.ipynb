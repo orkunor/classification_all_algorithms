{
 "cells": [
  {
   "cell_type": "code",
   "execution_count": null,
   "id": "2b9fa21e",
   "metadata": {},
   "outputs": [],
   "source": [
    "#bu başlıkta sayusal olmayan kategorik verilerin tahmin edilme işlemini göreceğiz !!1\n",
    "# sayısal veirlerin tahminine prediction sayısal olmayan veirlerin tahminine ise Classification adı verilir !!!\n",
    "# "
   ]
  }
 ],
 "metadata": {
  "kernelspec": {
   "display_name": "Python 3",
   "language": "python",
   "name": "python3"
  },
  "language_info": {
   "codemirror_mode": {
    "name": "ipython",
    "version": 3
   },
   "file_extension": ".py",
   "mimetype": "text/x-python",
   "name": "python",
   "nbconvert_exporter": "python",
   "pygments_lexer": "ipython3",
   "version": "3.8.8"
  }
 },
 "nbformat": 4,
 "nbformat_minor": 5
}
